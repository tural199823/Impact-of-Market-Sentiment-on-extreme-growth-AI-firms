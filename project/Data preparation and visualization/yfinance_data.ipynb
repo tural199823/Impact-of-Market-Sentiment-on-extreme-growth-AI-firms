{
 "cells": [
  {
   "cell_type": "code",
   "execution_count": 2,
   "id": "968e71a1",
   "metadata": {},
   "outputs": [],
   "source": [
    "import yfinance as yf\n",
    "from datetime import datetime"
   ]
  },
  {
   "cell_type": "code",
   "execution_count": 4,
   "id": "2822bcaa",
   "metadata": {},
   "outputs": [
    {
     "name": "stderr",
     "output_type": "stream",
     "text": [
      "[*********************100%***********************]  1 of 1 completed\n",
      "[*********************100%***********************]  1 of 1 completed\n",
      "[*********************100%***********************]  1 of 1 completed\n",
      "[*********************100%***********************]  1 of 1 completed\n"
     ]
    }
   ],
   "source": [
    "tickers = ['PATH', 'PLTR', 'AI', 'BBAI']  # List of ticker symbols\n",
    "start_date = '2024-11-04'\n",
    "end_date = datetime.today().strftime('%Y-%m-%d')\n",
    "\n",
    "for ticker in tickers:\n",
    "    data = yf.download(ticker, start=start_date, end=end_date, interval='1d')\n",
    "    data.to_csv(f'{ticker}_testdata.csv')  # Save each stock's data to a separate CSV file"
   ]
  },
  {
   "cell_type": "code",
   "execution_count": 6,
   "id": "86041b73",
   "metadata": {},
   "outputs": [
    {
     "name": "stderr",
     "output_type": "stream",
     "text": [
      "[*********************100%***********************]  1 of 1 completed\n"
     ]
    }
   ],
   "source": [
    "start_date = '2021-04-19'\n",
    "end_date = datetime.today().strftime('%Y-%m-%d')\n",
    "\n",
    "data = yf.download(['ARKK'], start=start_date, end=end_date, interval='1wk')\n",
    "data.to_csv('ARKK.csv')  # Save each stock's data to a separate CSV file"
   ]
  }
 ],
 "metadata": {
  "kernelspec": {
   "display_name": "Python 3 (ipykernel)",
   "language": "python",
   "name": "python3"
  },
  "language_info": {
   "codemirror_mode": {
    "name": "ipython",
    "version": 3
   },
   "file_extension": ".py",
   "mimetype": "text/x-python",
   "name": "python",
   "nbconvert_exporter": "python",
   "pygments_lexer": "ipython3",
   "version": "3.8.18"
  }
 },
 "nbformat": 4,
 "nbformat_minor": 5
}
