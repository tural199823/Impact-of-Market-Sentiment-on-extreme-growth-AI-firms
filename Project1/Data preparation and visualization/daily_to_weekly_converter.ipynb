{
 "cells": [
  {
   "cell_type": "code",
   "execution_count": 1,
   "id": "787cccfe",
   "metadata": {},
   "outputs": [],
   "source": [
    "import pandas as pd"
   ]
  },
  {
   "cell_type": "code",
   "execution_count": 2,
   "id": "cabb6efa",
   "metadata": {},
   "outputs": [],
   "source": [
    "def day_to_week_CEFD(csv_name):\n",
    "    df = pd.read_csv(csv_name)\n",
    "    df[\"Discount (%)\"] = df[\"Discount\"].str.replace('%', '').astype(float) / 100\n",
    "    df['Date'] = pd.to_datetime(df[\"Date\"], format=\"mixed\",errors=\"coerce\")\n",
    "    df = df.iloc[::-1]\n",
    "    df.reset_index(drop=True, inplace=True)\n",
    "    weekly_data = df.resample(\"W-Fri\", on=\"Date\").agg({\n",
    "        \"Share Price\": \"last\",\n",
    "        \"NAV\": \"last\",\n",
    "        \"Discount (%)\": \"mean\"\n",
    "    }).dropna()\n",
    "    weekly_data = weekly_data.reset_index().rename(columns={\"index\":\"date\"})\n",
    "    output_file_name = csv_name.replace(\"_daily.csv\", \"\") + \"_discmean_weekly.csv\"\n",
    "    weekly_data.to_csv(output_file_name, index=False)"
   ]
  },
  {
   "cell_type": "code",
   "execution_count": 3,
   "id": "003fcdab",
   "metadata": {},
   "outputs": [],
   "source": [
    "day_to_week_CEFD('Virtus_AI_daily.csv')\n",
    "day_to_week_CEFD('BSTZ_daily.csv')\n",
    "day_to_week_CEFD('BST_daily.csv')\n",
    "day_to_week_CEFD('NASDAQ_QQQX_daily.csv')\n",
    "day_to_week_CEFD('STK_daily.csv')"
   ]
  },
  {
   "cell_type": "code",
   "execution_count": null,
   "id": "b8493b67",
   "metadata": {},
   "outputs": [],
   "source": [
    "hl"
   ]
  }
 ],
 "metadata": {
  "kernelspec": {
   "display_name": "Python 3 (ipykernel)",
   "language": "python",
   "name": "python3"
  },
  "language_info": {
   "codemirror_mode": {
    "name": "ipython",
    "version": 3
   },
   "file_extension": ".py",
   "mimetype": "text/x-python",
   "name": "python",
   "nbconvert_exporter": "python",
   "pygments_lexer": "ipython3",
   "version": "3.8.18"
  }
 },
 "nbformat": 4,
 "nbformat_minor": 5
}
